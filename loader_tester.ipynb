{
 "cells": [
  {
   "cell_type": "code",
   "execution_count": 1,
   "id": "13693a96",
   "metadata": {},
   "outputs": [],
   "source": [
    "import time\n",
    "import os\n",
    "\n",
    "import IPython.display as ipd\n",
    "import numpy as np\n",
    "import pandas as pd\n",
    "\n",
    "import librosa\n",
    "from pathlib import Path,PureWindowsPath,PurePosixPath\n",
    "import torchaudio\n",
    "import torch\n",
    "import matplotlib.pyplot as plt\n",
    "import utils\n",
    "import librosa\n",
    "\n",
    "SAMPLE_RATE = 44100"
   ]
  },
  {
   "cell_type": "code",
   "execution_count": 2,
   "id": "48c88185",
   "metadata": {},
   "outputs": [
    {
     "name": "stderr",
     "output_type": "stream",
     "text": [
      "C:\\Users\\manue\\AppData\\Local\\Temp\\ipykernel_7988\\1660309712.py:1: DtypeWarning: Columns (0,1,5,6,8,12,18,20,21,22,24,33,34,38,39,44,47,49) have mixed types. Specify dtype option on import or set low_memory=False.\n",
      "  tracks = pd.read_csv(\"./fma_metadata/tracks.csv\")\n"
     ]
    }
   ],
   "source": [
    "tracks = pd.read_csv(\"./fma_metadata/tracks.csv\")\n",
    "genres = pd.read_csv(\"./fma_metadata/genres.csv\")\n",
    "tracks.columns=tracks.iloc[0] \n",
    "tracks.columns.values[0] = \"track_id\"\n",
    "tracks.drop([0,1],inplace=True)\n",
    "tracks.track_id = tracks.track_id.astype(int)"
   ]
  },
  {
   "cell_type": "code",
   "execution_count": 3,
   "id": "d95e540a",
   "metadata": {},
   "outputs": [],
   "source": [
    "def GetGenres(path,genre = 'genre_top'):\n",
    "    id_list = []\n",
    "    genre_list = []\n",
    "    for direc in list(path.iterdir()):\n",
    "        if not direc.is_file():\n",
    "            for file in (list(direc.iterdir())):\n",
    "                id_track = str(file)[-10:-4]\n",
    "                id_list.append(id_track)\n",
    "                genre_list.append(tracks.loc[tracks.track_id == int(id_track),genre].values[0])\n",
    "    return np.asarray(id_list),np.asarray(genre_list)\n"
   ]
  },
  {
   "cell_type": "code",
   "execution_count": 4,
   "id": "741ee1ee",
   "metadata": {},
   "outputs": [],
   "source": [
    "path = Path(\"./fma_small\")\n",
    "id_list, genre_list = GetGenres(path)"
   ]
  },
  {
   "cell_type": "code",
   "execution_count": 5,
   "id": "282fb0af",
   "metadata": {},
   "outputs": [],
   "source": [
    "def CreateSpectrograms(load_path,save_path, transformation = \"MEL\"):\n",
    "    id_list = []\n",
    "    genre_list = []\n",
    "    if transformation == 'MEL':\n",
    "        transform = torchaudio.transforms.MelSpectrogram(SAMPLE_RATE,n_fft=2048,hop_length=512)\n",
    "    else:\n",
    "        transform = torchaudio.transforms.Spectrogram(SAMPLE_RATE,n_fft=2048,hop_length=512)\n",
    "    for direc in list(load_path.iterdir()):\n",
    "        if not direc.is_file():\n",
    "            for file in (list(direc.iterdir())):\n",
    "                id_track = str(file)[-10:-4]\n",
    "                try:\n",
    "                    waveform, sample_rate = torchaudio.load(file)\n",
    "                    if waveform.shape[0] > 1:\n",
    "                        waveform = (waveform[0] + waveform[1])/2\n",
    "                    spec = transform(waveform)\n",
    "                    torch.save(spec, save_path+\"/\"+id_track+\".pt\")\n",
    "                except:\n",
    "                    pass\n"
   ]
  },
  {
   "cell_type": "code",
   "execution_count": 6,
   "id": "ac28449e",
   "metadata": {},
   "outputs": [],
   "source": [
    "save = \"./Spectrograms\"\n",
    "CreateSpectrograms(path,save)"
   ]
  },
  {
   "cell_type": "code",
   "execution_count": null,
   "id": "0e01ad78",
   "metadata": {},
   "outputs": [],
   "source": [
    "#Prototype, not sure if it works\n",
    "class CustomSpectrogramDataset(Dataset):\n",
    "    def __init__(self, spectrogram,genre, transform=None):\n",
    "        self.x = spectrogram\n",
    "        self.target = genre\n",
    "        self.transform = transform\n",
    "\n",
    "    def __len__(self):\n",
    "        return len(self.img_labels)\n",
    "\n",
    "    def __getitem__(self, idx):\n",
    "        image = self.x[idx]\n",
    "        label = self.target.iloc[idx]\n",
    "        if (self.transform!=None):\n",
    "            image = self.transform(image)\n",
    "        return image, label"
   ]
  },
  {
   "cell_type": "code",
   "execution_count": null,
   "id": "09eba0b8",
   "metadata": {},
   "outputs": [],
   "source": [
    "#path = Path(\"./Spectrograms\")\n",
    "\n",
    "def ChargeDataset(path,id_list,genre_list):\n",
    "    images = []\n",
    "    labels = []\n",
    "    for spec in list(path.iterdir()):\n",
    "        id_track = str(spec)[13:-3]\n",
    "        labels.append(genre_list[np.argwhere(id_list == id_track)][0][0])\n",
    "        images.append(torch.load(spec))\n",
    "    return np.asarray(images),np.asarray(labels)\n",
    "\n",
    "#spectograms, genres = ChargeDataset(path,id_list,genre_list)    "
   ]
  },
  {
   "cell_type": "code",
   "execution_count": null,
   "id": "44e3241f",
   "metadata": {},
   "outputs": [],
   "source": [
    "#PLOT FUNCTIONS\n",
    "\n",
    "def plot_spectrogram(spec, title=None, ylabel=\"freq_bin\", aspect=\"auto\", xmax=None):\n",
    "    fig, axs = plt.subplots(1, 1)\n",
    "    axs.set_title(title or \"Spectrogram (db)\")\n",
    "    axs.set_ylabel(ylabel)\n",
    "    axs.set_xlabel(\"frame\")\n",
    "    im = axs.imshow(librosa.power_to_db(spec), origin=\"lower\", aspect=aspect)\n",
    "    if xmax:\n",
    "        axs.set_xlim((0, xmax))\n",
    "    fig.colorbar(im, ax=axs)\n",
    "    plt.show(block=False)"
   ]
  }
 ],
 "metadata": {
  "kernelspec": {
   "display_name": "Python 3 (ipykernel)",
   "language": "python",
   "name": "python3"
  },
  "language_info": {
   "codemirror_mode": {
    "name": "ipython",
    "version": 3
   },
   "file_extension": ".py",
   "mimetype": "text/x-python",
   "name": "python",
   "nbconvert_exporter": "python",
   "pygments_lexer": "ipython3",
   "version": "3.10.9"
  }
 },
 "nbformat": 4,
 "nbformat_minor": 5
}
